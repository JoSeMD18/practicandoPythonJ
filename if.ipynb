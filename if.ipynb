{
 "cells": [
  {
   "cell_type": "markdown",
   "metadata": {},
   "source": [
    "El condicional mas basico es la condicional if\n",
    "\n",
    "<img src=\"if.png\">\n",
    "\n",
    "Condicional= Decision\n",
    "\n",
    "En palabras sencillas es tomar una decision y saber que pasara si eliges por ejemplo entrar o no a clases "
   ]
  },
  {
   "cell_type": "markdown",
   "metadata": {},
   "source": [
    "1. Crea un diagrama en el que decidas si entras o no a clases <br>\n",
    "<img src=\"CLASES.png\">"
   ]
  },
  {
   "cell_type": "code",
   "execution_count": 27,
   "metadata": {},
   "outputs": [
    {
     "ename": "SyntaxError",
     "evalue": "invalid syntax (3474768319.py, line 1)",
     "output_type": "error",
     "traceback": [
      "\u001b[1;36m  Cell \u001b[1;32mIn[27], line 1\u001b[1;36m\u001b[0m\n\u001b[1;33m    img src=\"CLASES.png\"\u001b[0m\n\u001b[1;37m        ^\u001b[0m\n\u001b[1;31mSyntaxError\u001b[0m\u001b[1;31m:\u001b[0m invalid syntax\n"
     ]
    }
   ],
   "source": [
    "img src=\"CLASES.png\""
   ]
  },
  {
   "cell_type": "markdown",
   "metadata": {},
   "source": [
    "2. Crea un programa que diga si debe de tomar coca-cola fria o no dependiendo de la temperatura, es decir, le preguntas si tiene calor, si la respuesta es si, debe de tomar coca-cola fria\n",
    "en caso de que no solo debe de tomar coca-cola\n"
   ]
  },
  {
   "cell_type": "code",
   "execution_count": 5,
   "metadata": {},
   "outputs": [
    {
     "name": "stdout",
     "output_type": "stream",
     "text": [
      "¿Debería tomar coca cola fría o no?\n",
      "Deberías tomarla fría\n"
     ]
    }
   ],
   "source": [
    "print(\"¿Debería tomar coca cola fría o no?\")\n",
    "a = input(\"¿Tienes calor?\")\n",
    "if a == \"si\":\n",
    "  print(\"Deberías tomarla fría\")\n",
    "else:\n",
    "  print(\"No deberías tomarla fría\")\n",
    "  print(\"Puedes tomar Coca-Cola al tiempo\")"
   ]
  },
  {
   "cell_type": "markdown",
   "metadata": {},
   "source": [
    "3. Crea un programa que diga si le alcanza para el camion o no, sabiendo que el camion cuesta 12 pesos "
   ]
  },
  {
   "cell_type": "code",
   "execution_count": null,
   "metadata": {},
   "outputs": [],
   "source": [
    "print(\"¿Te alcanza para tu camión o no?\")\n",
    "a = input(\"¿Tienes 12 pesos?\")\n",
    "if a == \"si\":\n",
    "  print(\"¡Si te alcanza!\")\n",
    "else: \n",
    "  print(\"No te alcanza, vete caminando\")"
   ]
  },
  {
   "cell_type": "markdown",
   "metadata": {},
   "source": [
    "4. Crea un programa que diga si eres mayor o menor de edad "
   ]
  },
  {
   "cell_type": "code",
   "execution_count": 6,
   "metadata": {},
   "outputs": [
    {
     "name": "stdout",
     "output_type": "stream",
     "text": [
      "Eres mayor de edad?\n",
      "Eres un adulto\n"
     ]
    }
   ],
   "source": [
    "print(\"Eres mayor de edad?\")\n",
    "a = int(input(\"Ingresa tu edad\"))\n",
    "if a >= 18:\n",
    "  print(\"Eres un adulto\")\n",
    "else:\n",
    "  print(\"No puedes ingresar eres un niño\")"
   ]
  },
  {
   "cell_type": "markdown",
   "metadata": {},
   "source": [
    "5. Agrega un programa con ifs anidados"
   ]
  },
  {
   "cell_type": "code",
   "execution_count": null,
   "metadata": {},
   "outputs": [],
   "source": [
    "edad = int(input(\"Introduce tu edad: \"))\n",
    "if edad >= 18:\n",
    "    if edad>= 65:\n",
    "        print(\"Eres un adulto mayor\")\n",
    "    else:\n",
    "        print(\"Eres un adulto\")\n",
    "else:\n",
    "    if edad > 3:\n",
    "        print(\"Eres menor de edad\")\n",
    "    else: \n",
    "        print(\"Eres un bebé\")"
   ]
  }
 ],
 "metadata": {
  "kernelspec": {
   "display_name": "Python 3",
   "language": "python",
   "name": "python3"
  },
  "language_info": {
   "codemirror_mode": {
    "name": "ipython",
    "version": 3
   },
   "file_extension": ".py",
   "mimetype": "text/x-python",
   "name": "python",
   "nbconvert_exporter": "python",
   "pygments_lexer": "ipython3",
   "version": "3.11.3"
  }
 },
 "nbformat": 4,
 "nbformat_minor": 2
}
